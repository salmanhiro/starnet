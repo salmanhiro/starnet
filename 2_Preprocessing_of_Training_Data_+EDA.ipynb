{
  "nbformat": 4,
  "nbformat_minor": 0,
  "metadata": {
    "kernelspec": {
      "display_name": "Python 3",
      "language": "python",
      "name": "python3"
    },
    "language_info": {
      "codemirror_mode": {
        "name": "ipython",
        "version": 3
      },
      "file_extension": ".py",
      "mimetype": "text/x-python",
      "name": "python",
      "nbconvert_exporter": "python",
      "pygments_lexer": "ipython3",
      "version": "3.6.4"
    },
    "colab": {
      "name": "2_Preprocessing_of_Training_Data_+EDA.ipynb",
      "provenance": [],
      "collapsed_sections": [],
      "toc_visible": true,
      "include_colab_link": true
    }
  },
  "cells": [
    {
      "cell_type": "markdown",
      "metadata": {
        "id": "view-in-github",
        "colab_type": "text"
      },
      "source": [
        "<a href=\"https://colab.research.google.com/github/salmanhiro/starnet/blob/master/2_Preprocessing_of_Training_Data_%2BEDA.ipynb\" target=\"_parent\"><img src=\"https://colab.research.google.com/assets/colab-badge.svg\" alt=\"Open In Colab\"/></a>"
      ]
    },
    {
      "cell_type": "markdown",
      "metadata": {
        "id": "A2jw_gB8-g2g",
        "colab_type": "text"
      },
      "source": [
        "# Preprocess training and test set for StarNet\n",
        "This notebook takes you through the steps of how to pre-process the training data necessary for training StarNet and separate out a high S/N test set.\n",
        "\n",
        "Requirements:\n",
        "- python packages: `numpy h5py vos`\n",
        "* required data files: apStar_visits_main.h5"
      ]
    },
    {
      "cell_type": "code",
      "metadata": {
        "id": "nyuZi2gp-g2j",
        "colab_type": "code",
        "colab": {}
      },
      "source": [
        "import numpy as np\n",
        "import h5py\n",
        "import os\n",
        "#import vos\n",
        "\n",
        "datadir=\"\""
      ],
      "execution_count": null,
      "outputs": []
    },
    {
      "cell_type": "markdown",
      "metadata": {
        "id": "mBDg18aC-g2w",
        "colab_type": "text"
      },
      "source": [
        "** If you have not downloaded apStar_visits_main.h5 uncomment the below code to copy the file **\n",
        "\n",
        "Note: This file requires 38.6GB. It is necessary to download this file to run this particular notebook, although this notebook can be skipped by downloading the files created here seperately. See $1\\_Download\\_Data.ipynb$ for instructions on how to do so."
      ]
    },
    {
      "cell_type": "code",
      "metadata": {
        "id": "ahENkpVO-qaP",
        "colab_type": "code",
        "colab": {
          "base_uri": "https://localhost:8080/",
          "height": 54
        },
        "outputId": "b2bf24ba-81ed-42c3-d0d9-4933cc05578b"
      },
      "source": [
        "from google.colab import drive\n",
        "drive.mount('/content/drive')"
      ],
      "execution_count": null,
      "outputs": [
        {
          "output_type": "stream",
          "text": [
            "Drive already mounted at /content/drive; to attempt to forcibly remount, call drive.mount(\"/content/drive\", force_remount=True).\n"
          ],
          "name": "stdout"
        }
      ]
    },
    {
      "cell_type": "code",
      "metadata": {
        "id": "LjT_0w73-g2x",
        "colab_type": "code",
        "colab": {
          "base_uri": "https://localhost:8080/",
          "height": 52
        },
        "outputId": "5ab99bf3-157c-4cbd-f645-72cae38e5e5d"
      },
      "source": [
        "'''\n",
        "def starnet_download_file(filename):\n",
        "    vclient = vos.Client()\n",
        "    vclient.copy('vos:starnet/public/'+filename, datadir+filename)\n",
        "    print(filename+' downloaded')\n",
        "    \n",
        "starnet_download_file('apStar_visits_main.h5')\n",
        "'''"
      ],
      "execution_count": null,
      "outputs": [
        {
          "output_type": "execute_result",
          "data": {
            "application/vnd.google.colaboratory.intrinsic": {
              "type": "string"
            },
            "text/plain": [
              "\"\\ndef starnet_download_file(filename):\\n    vclient = vos.Client()\\n    vclient.copy('vos:starnet/public/'+filename, datadir+filename)\\n    print(filename+' downloaded')\\n    \\nstarnet_download_file('apStar_visits_main.h5')\\n\""
            ]
          },
          "metadata": {
            "tags": []
          },
          "execution_count": 30
        }
      ]
    },
    {
      "cell_type": "markdown",
      "metadata": {
        "id": "pk-FRRZB-g27",
        "colab_type": "text"
      },
      "source": [
        "**Load the file that contains individual visit spectra along with APOGEE data associated with each star**"
      ]
    },
    {
      "cell_type": "code",
      "metadata": {
        "id": "0l4P__G4-g29",
        "colab_type": "code",
        "colab": {
          "base_uri": "https://localhost:8080/",
          "height": 88
        },
        "outputId": "df370410-bd8d-4fdd-a932-9f6a7140d159"
      },
      "source": [
        "datadir = ''\n",
        "filename = datadir + '/content/drive/My Drive/TA/apStar_visits_main.h5'\n",
        "\n",
        "F = h5py.File(filename,'r')\n",
        "print('Dataset keys in file: \\n')\n",
        "print(list(F.keys()))"
      ],
      "execution_count": null,
      "outputs": [
        {
          "output_type": "stream",
          "text": [
            "Dataset keys in file: \n",
            "\n",
            "['0_FE', '0_FE_ERR', 'ALPHA_M', 'AL_FE', 'AL_FE_ERR', 'CA_FE', 'CA_FE_ERR', 'C_FE', 'C_FE_ERR', 'FE_H', 'FE_H_ERR', 'IDs', 'K_FE', 'K_FE_ERR', 'LOGG', 'LOGG_ERR', 'MG_FE', 'MG_FE_ERR', 'MN_FE', 'MN_FE_ERR', 'NA_FE', 'NA_FE_ERR', 'NI_FE', 'NI_FE_ERR', 'N_FE', 'N_FE_ERR', 'PARAM', 'SI_FE', 'SI_FE_ERR', 'S_FE', 'S_FE_ERR', 'TEFF', 'TEFF_ERR', 'TI_FE', 'TI_FE_ERR', 'VRAD', 'VRAD_ERR', 'VSCATTER', 'V_FE', 'V_FE_ERR', 'aspcap_flag', 'bluegreen_persist', 'error_spectrum', 'greenred_persist', 'num_visits', 'spectrum', 'stacked_snr', 'star_flag', 'star_flag_indiv', 'targ1_flag', 'targ2_flag', 'visit_snr']\n"
          ],
          "name": "stdout"
        }
      ]
    },
    {
      "cell_type": "markdown",
      "metadata": {
        "id": "6Do-YxWn-g3F",
        "colab_type": "text"
      },
      "source": [
        "** Load the APOGEE data set into memory**\n",
        "\n",
        "For the training of StarNet, it is only necessary to obtain the spectra and labels, but we need to set restrictions on the training set to obtain the labels of highest validity so we will first include APOGEE_IDs, the spectra, the S/N of the combined spectra, $T_{\\mathrm{eff}}$, $\\log(g)$,  [Fe/H],  $V_{scatter}$,  STARFLAGs, and ASPCAPFLAGs"
      ]
    },
    {
      "cell_type": "code",
      "metadata": {
        "id": "Nt60Dvkw-g3H",
        "colab_type": "code",
        "colab": {
          "base_uri": "https://localhost:8080/",
          "height": 34
        },
        "outputId": "8bfbc7e7-87ad-40ba-8573-2f9f765a92ec"
      },
      "source": [
        "ap_id = F['IDs'][:,0]\n",
        "combined_snr = F['stacked_snr']\n",
        "starflag = F['star_flag']\n",
        "aspcapflag = F['aspcap_flag']\n",
        "teff = F['TEFF'][:]\n",
        "logg = F['LOGG'][:]\n",
        "fe_h = F['FE_H'][:]\n",
        "vscatter = F['VSCATTER']\n",
        "\n",
        "print('Obtained data for '+str(len(ap_id))+' individual visits from '+str(len(list(set(list(ap_id)))))+' stars.')"
      ],
      "execution_count": null,
      "outputs": [
        {
          "output_type": "stream",
          "text": [
            "Obtained data for 559484 individual visits from 143467 stars.\n"
          ],
          "name": "stdout"
        }
      ]
    },
    {
      "cell_type": "code",
      "metadata": {
        "id": "91qgpEkuO191",
        "colab_type": "code",
        "colab": {
          "base_uri": "https://localhost:8080/",
          "height": 153
        },
        "outputId": "9e6c2e04-6f9e-4226-99b8-a3978fc6fc55"
      },
      "source": [
        "print(len(ap_id))\n",
        "print(len(combined_snr))\n",
        "print(len(starflag))\n",
        "print(len(aspcapflag))\n",
        "print(len(teff))\n",
        "print(len(logg))\n",
        "print(len(fe_h))\n",
        "print(len(vscatter))"
      ],
      "execution_count": null,
      "outputs": [
        {
          "output_type": "stream",
          "text": [
            "559484\n",
            "559484\n",
            "559484\n",
            "559484\n",
            "559484\n",
            "559484\n",
            "559484\n",
            "559484\n"
          ],
          "name": "stdout"
        }
      ]
    },
    {
      "cell_type": "markdown",
      "metadata": {
        "id": "7uUyNqVCKxFJ",
        "colab_type": "text"
      },
      "source": [
        "**This is Exploration and Data analysis section, an additional section**\n",
        "\n",
        "From the apStar visit, we got the every visit data. Some plot for analysis was done for insight purpose using pandas. "
      ]
    },
    {
      "cell_type": "code",
      "metadata": {
        "id": "nm27PTaqMNE8",
        "colab_type": "code",
        "colab": {}
      },
      "source": [
        "import pandas as pd"
      ],
      "execution_count": null,
      "outputs": []
    },
    {
      "cell_type": "code",
      "metadata": {
        "id": "NnDvP4-AMoYZ",
        "colab_type": "code",
        "colab": {}
      },
      "source": [
        "dataframe = pd.DataFrame(ap_id, columns=['IDs'])"
      ],
      "execution_count": null,
      "outputs": []
    },
    {
      "cell_type": "code",
      "metadata": {
        "id": "pPpjVWJpNkhN",
        "colab_type": "code",
        "colab": {
          "base_uri": "https://localhost:8080/",
          "height": 204
        },
        "outputId": "b81ca6f6-6494-48d5-8bb5-a3942d91e5cb"
      },
      "source": [
        "dataframe['stacked_snr'] = combined_snr\n",
        "dataframe['star_flag'] = starflag\n",
        "dataframe['aspcap_flag'] = aspcapflag\n",
        "dataframe['TEFF'] = teff\n",
        "dataframe['LOGG'] = logg\n",
        "dataframe['TEFF'] = teff\n",
        "dataframe['FE_H'] = fe_h\n",
        "dataframe.head(5)"
      ],
      "execution_count": null,
      "outputs": [
        {
          "output_type": "execute_result",
          "data": {
            "text/html": [
              "<div>\n",
              "<style scoped>\n",
              "    .dataframe tbody tr th:only-of-type {\n",
              "        vertical-align: middle;\n",
              "    }\n",
              "\n",
              "    .dataframe tbody tr th {\n",
              "        vertical-align: top;\n",
              "    }\n",
              "\n",
              "    .dataframe thead th {\n",
              "        text-align: right;\n",
              "    }\n",
              "</style>\n",
              "<table border=\"1\" class=\"dataframe\">\n",
              "  <thead>\n",
              "    <tr style=\"text-align: right;\">\n",
              "      <th></th>\n",
              "      <th>IDs</th>\n",
              "      <th>stacked_snr</th>\n",
              "      <th>star_flag</th>\n",
              "      <th>aspcap_flag</th>\n",
              "      <th>TEFF</th>\n",
              "      <th>LOGG</th>\n",
              "      <th>FE_H</th>\n",
              "    </tr>\n",
              "  </thead>\n",
              "  <tbody>\n",
              "    <tr>\n",
              "      <th>0</th>\n",
              "      <td>b'2M18232592-0435020'</td>\n",
              "      <td>(76.7253,)</td>\n",
              "      <td>(512.0,)</td>\n",
              "      <td>(0.0,)</td>\n",
              "      <td>3892.899902</td>\n",
              "      <td>1.078766</td>\n",
              "      <td>-0.18916</td>\n",
              "    </tr>\n",
              "    <tr>\n",
              "      <th>1</th>\n",
              "      <td>b'2M18232592-0435020'</td>\n",
              "      <td>(76.7253,)</td>\n",
              "      <td>(512.0,)</td>\n",
              "      <td>(0.0,)</td>\n",
              "      <td>3892.899902</td>\n",
              "      <td>1.078766</td>\n",
              "      <td>-0.18916</td>\n",
              "    </tr>\n",
              "    <tr>\n",
              "      <th>2</th>\n",
              "      <td>b'2M18232592-0435020'</td>\n",
              "      <td>(76.7253,)</td>\n",
              "      <td>(512.0,)</td>\n",
              "      <td>(0.0,)</td>\n",
              "      <td>3892.899902</td>\n",
              "      <td>1.078766</td>\n",
              "      <td>-0.18916</td>\n",
              "    </tr>\n",
              "    <tr>\n",
              "      <th>3</th>\n",
              "      <td>b'2M18232592-0435020'</td>\n",
              "      <td>(76.7253,)</td>\n",
              "      <td>(512.0,)</td>\n",
              "      <td>(0.0,)</td>\n",
              "      <td>3892.899902</td>\n",
              "      <td>1.078766</td>\n",
              "      <td>-0.18916</td>\n",
              "    </tr>\n",
              "    <tr>\n",
              "      <th>4</th>\n",
              "      <td>b'2M18232592-0435020'</td>\n",
              "      <td>(76.7253,)</td>\n",
              "      <td>(512.0,)</td>\n",
              "      <td>(0.0,)</td>\n",
              "      <td>3892.899902</td>\n",
              "      <td>1.078766</td>\n",
              "      <td>-0.18916</td>\n",
              "    </tr>\n",
              "  </tbody>\n",
              "</table>\n",
              "</div>"
            ],
            "text/plain": [
              "                     IDs stacked_snr star_flag  ...         TEFF      LOGG     FE_H\n",
              "0  b'2M18232592-0435020'  (76.7253,)  (512.0,)  ...  3892.899902  1.078766 -0.18916\n",
              "1  b'2M18232592-0435020'  (76.7253,)  (512.0,)  ...  3892.899902  1.078766 -0.18916\n",
              "2  b'2M18232592-0435020'  (76.7253,)  (512.0,)  ...  3892.899902  1.078766 -0.18916\n",
              "3  b'2M18232592-0435020'  (76.7253,)  (512.0,)  ...  3892.899902  1.078766 -0.18916\n",
              "4  b'2M18232592-0435020'  (76.7253,)  (512.0,)  ...  3892.899902  1.078766 -0.18916\n",
              "\n",
              "[5 rows x 7 columns]"
            ]
          },
          "metadata": {
            "tags": []
          },
          "execution_count": 36
        }
      ]
    },
    {
      "cell_type": "code",
      "metadata": {
        "id": "bWqMbnzKYqYK",
        "colab_type": "code",
        "colab": {
          "base_uri": "https://localhost:8080/",
          "height": 221
        },
        "outputId": "f9be959a-064b-44a9-c615-b81600e24dfb"
      },
      "source": [
        "import matplotlib.pyplot as plt\n",
        "import seaborn\n",
        "\n",
        "seaborn.set(style='ticks')\n",
        "fig, ax = plt.subplots(ncols=3, dpi=72, facecolor=\"white\")\n",
        "fig.set_figheight(3)\n",
        "fig.set_figwidth(10)\n",
        "\n",
        "#Teff\n",
        "ax[0].title.set_text('$T_{eff}$  distribution')\n",
        "ax[0].hist(dataframe['TEFF'], color='black')\n",
        "ax[0].set_xlabel('$T_{eff}$')\n",
        "fig.tight_layout()\n",
        "\n",
        "\n",
        "#log(g)\n",
        "ax[1].title.set_text('$log(g)$  distribution')\n",
        "ax[1].hist(dataframe['LOGG'], color='black')\n",
        "ax[1].set_xlabel('$log(g)$')\n",
        "fig.tight_layout()\n",
        "\n",
        "#log(g)\n",
        "ax[2].title.set_text('$[Fe/H]$  distribution')\n",
        "ax[2].hist(dataframe['FE_H'], color='black')\n",
        "ax[2].set_xlabel('$[FE/H]$')\n",
        "fig.tight_layout()\n",
        "\n",
        "\n",
        "plt.show()"
      ],
      "execution_count": null,
      "outputs": [
        {
          "output_type": "display_data",
          "data": {
            "image/png": "[encoded data removed]",
            "text/plain": [
              "<Figure size 720x216 with 3 Axes>"
            ]
          },
          "metadata": {
            "tags": []
          }
        }
      ]
    },
    {
      "cell_type": "markdown",
      "metadata": {
        "id": "8YnAFaKT-g3P",
        "colab_type": "text"
      },
      "source": [
        "**Separate out a dataset with good labels**\n",
        "- combined spectral S/N $\\geq$ 200\n",
        "- STARFLAG = 0\n",
        "- ASPCAPFLAG = 0\n",
        "- 4000K < $T_{\\mathrm{eff}}$ < 5500K\n",
        "- -3.0 dex < [Fe/H]\n",
        "- $\\log(g)$ $\\neq$ -9999. (value defined by ASPCAP when no ASPCAP labels are given)\n",
        "- $V_{scatter}$ < 1.0 km/s"
      ]
    },
    {
      "cell_type": "code",
      "metadata": {
        "id": "eU5hBkWn-g3Q",
        "colab_type": "code",
        "colab": {}
      },
      "source": [
        "snr_min = 200.\n",
        "teff_min = 4000.\n",
        "teff_max = 5500.\n",
        "vscatter_max = 1.\n",
        "fe_h_min = -3."
      ],
      "execution_count": null,
      "outputs": []
    },
    {
      "cell_type": "code",
      "metadata": {
        "id": "gdJj3igh-g3X",
        "colab_type": "code",
        "colab": {
          "base_uri": "https://localhost:8080/",
          "height": 34
        },
        "outputId": "5c07d876-67f7-4d73-9cc5-66e4543df075"
      },
      "source": [
        "indices, cols = np.where((aspcapflag[:]==0.)&(starflag[:]==0.)&(combined_snr[:]>=snr_min)&(vscatter[:]<vscatter_max)&(fe_h[:]>fe_h_min)&(teff[:]>teff_min)&(teff[:]<teff_max)&(logg[:]!=-9999.).reshape(len(ap_id),1))\n",
        "\n",
        "ap_id_high_snr = ap_id[indices]\n",
        "print(str(len(ap_id_high_snr))+' individual visits from '+str(len(set(ap_id_high_snr)))+' stars remain.')"
      ],
      "execution_count": null,
      "outputs": [
        {
          "output_type": "stream",
          "text": [
            "53135 individual visits from 17149 stars remain.\n"
          ],
          "name": "stdout"
        }
      ]
    },
    {
      "cell_type": "markdown",
      "metadata": {
        "id": "R7g7oY1_-g3g",
        "colab_type": "text"
      },
      "source": [
        "**Select the first **$num\\_ref$** visits for the reference set**\n",
        "\n",
        "We shuffle around the data to avoid local effects.\n",
        "Later on, it will be be split into training and cross-validation sets.\n",
        "The remaining high S/N spectra will be used in the test set"
      ]
    },
    {
      "cell_type": "code",
      "metadata": {
        "id": "6PD3j-zM-g3h",
        "colab_type": "code",
        "colab": {
          "base_uri": "https://localhost:8080/",
          "height": 34
        },
        "outputId": "8a53cc3f-9b33-42f7-cb34-c5a291eea14a"
      },
      "source": [
        "num_ref = 44784 # number of reference spectra\n",
        "\n",
        "indices_ref = indices[0:num_ref]\n",
        "np.random.shuffle(indices_ref)\n",
        "\n",
        "ap_id_ref = ap_id[indices_ref]\n",
        "teff = teff[indices_ref]\n",
        "logg = logg[indices_ref]\n",
        "fe_h = fe_h[indices_ref]\n",
        "\n",
        "print('Reference set includes '+str(len(ap_id_ref))+' individual visits from '+str(len(set(ap_id_ref)))+' stars.')"
      ],
      "execution_count": null,
      "outputs": [
        {
          "output_type": "stream",
          "text": [
            "Reference set includes 44784 individual visits from 14498 stars.\n"
          ],
          "name": "stdout"
        }
      ]
    },
    {
      "cell_type": "markdown",
      "metadata": {
        "id": "vlyhDX0M3BGs",
        "colab_type": "text"
      },
      "source": [
        "**Let's check out**"
      ]
    },
    {
      "cell_type": "code",
      "metadata": {
        "id": "5eUgVV-6Zvn6",
        "colab_type": "code",
        "colab": {
          "base_uri": "https://localhost:8080/",
          "height": 221
        },
        "outputId": "d0bc29ae-cde9-4f50-e5e1-948047e87f60"
      },
      "source": [
        "import matplotlib.pyplot as plt\n",
        "import seaborn\n",
        "\n",
        "seaborn.set(style='ticks')\n",
        "fig, ax = plt.subplots(ncols=3, dpi=72, facecolor=\"white\")\n",
        "fig.set_figheight(3)\n",
        "fig.set_figwidth(10)\n",
        "\n",
        "#Teff\n",
        "ax[0].title.set_text('$T_{eff}$  distribution')\n",
        "ax[0].hist(teff, color='black')\n",
        "ax[0].set_xlabel('$T_{eff}$')\n",
        "fig.tight_layout()\n",
        "\n",
        "\n",
        "#log(g)\n",
        "ax[1].title.set_text('$log(g)$  distribution')\n",
        "ax[1].hist(logg, color='black')\n",
        "ax[1].set_xlabel('$log(g)$')\n",
        "fig.tight_layout()\n",
        "\n",
        "#log(g)\n",
        "ax[2].title.set_text('$[Fe/H]$  distribution')\n",
        "ax[2].hist(fe_h, color='black')\n",
        "ax[2].set_xlabel('$[Fe/H]$')\n",
        "fig.tight_layout()\n",
        "\n",
        "\n",
        "plt.show()"
      ],
      "execution_count": null,
      "outputs": [
        {
          "output_type": "display_data",
          "data": {
            "image/png": "[encoded data removed]",
            "text/plain": [
              "<Figure size 720x216 with 3 Axes>"
            ]
          },
          "metadata": {
            "tags": []
          }
        }
      ]
    },
    {
      "cell_type": "markdown",
      "metadata": {
        "id": "OjuFvYXJ-g3o",
        "colab_type": "text"
      },
      "source": [
        "**Now collect individual visit spectra, normalize each spectrum, and save data**\n",
        "\n",
        "**Normalize spectra**\n",
        "1. separate into three chips\n",
        "2. divide by median value in each chip\n",
        "3. recombine each spectrum into a vector of 7214 flux values"
      ]
    },
    {
      "cell_type": "code",
      "metadata": {
        "id": "PSxnBtu3-g3q",
        "colab_type": "code",
        "colab": {}
      },
      "source": [
        "# Define edges of detectors\n",
        "blue_chip_begin = 322\n",
        "blue_chip_end = 3242\n",
        "green_chip_begin = 3648\n",
        "green_chip_end = 6048   \n",
        "red_chip_begin = 6412\n",
        "red_chip_end = 8306 "
      ],
      "execution_count": null,
      "outputs": []
    },
    {
      "cell_type": "markdown",
      "metadata": {
        "id": "H6RTr1IS4rv1",
        "colab_type": "text"
      },
      "source": [
        "**Here is an example**\n",
        "\n",
        "We will take normalized spectra inside chips"
      ]
    },
    {
      "cell_type": "code",
      "metadata": {
        "id": "LMQYIBxt3E0D",
        "colab_type": "code",
        "colab": {
          "base_uri": "https://localhost:8080/",
          "height": 389
        },
        "outputId": "01f6c5e1-61f9-42dc-c45c-adbff49a25d6"
      },
      "source": [
        "print(F['spectrum'].shape)\n",
        "\n",
        "\n",
        "fig = plt.figure(figsize = (10,5))\n",
        "plt.title('Sample spectra')\n",
        "fig = plt.plot(F['spectrum'][1],color='black')\n",
        "\n",
        "\n",
        "blue_chip = [blue_chip_begin, blue_chip_end]\n",
        "green_chip = [green_chip_begin, green_chip_end]\n",
        "red_chip = [red_chip_begin, red_chip_end]\n",
        "\n",
        "for xc in blue_chip:\n",
        "    blue = plt.axvline(xc ,color='blue', linestyle='--')\n",
        "for xc in green_chip:\n",
        "    green = plt.axvline(xc ,color='green', linestyle=':')\n",
        "for xc in red_chip:\n",
        "    green = plt.axvline(xc ,color='red', linestyle='-.')\n",
        "\n",
        "plt.xlabel('chip length')\n",
        "plt.ylabel('flux')"
      ],
      "execution_count": null,
      "outputs": [
        {
          "output_type": "stream",
          "text": [
            "(559484, 8575)\n"
          ],
          "name": "stdout"
        },
        {
          "output_type": "execute_result",
          "data": {
            "text/plain": [
              "Text(0, 0.5, 'flux')"
            ]
          },
          "metadata": {
            "tags": []
          },
          "execution_count": 137
        },
        {
          "output_type": "display_data",
          "data": {
            "image/png": "[encoded data removed]",
            "text/plain": [
              "<Figure size 720x360 with 1 Axes>"
            ]
          },
          "metadata": {
            "tags": []
          }
        }
      ]
    },
    {
      "cell_type": "code",
      "metadata": {
        "id": "H5iG1ESG-g3w",
        "colab_type": "code",
        "colab": {
          "base_uri": "https://localhost:8080/",
          "height": 34
        },
        "outputId": "c44c3f29-3212-4acf-9668-85b1326081c0"
      },
      "source": [
        "savename = '/content/drive/My Drive/TA/training_data.h5'\n",
        "\n",
        "with h5py.File(datadir + savename, \"w\") as f:\n",
        "    \n",
        "    # Create datasets for your reference data file \n",
        "    spectra_ds = f.create_dataset('spectrum', (1,7214), maxshape=(None,7214), dtype=\"f\", chunks=(1,7214))\n",
        "    teff_ds = f.create_dataset('TEFF', teff.shape, dtype=\"f\")\n",
        "    logg_ds = f.create_dataset('LOGG', logg.shape, dtype=\"f\")\n",
        "    fe_h_ds = f.create_dataset('FE_H', fe_h.shape, dtype=\"f\")\n",
        "    ap_id_ds = f.create_dataset('Ap_ID', ap_id_ref.shape, dtype=\"S18\")\n",
        "    \n",
        "    teff_ds[:] = teff\n",
        "    logg_ds[:] = logg\n",
        "    fe_h_ds[:] = fe_h\n",
        "    ap_id_ds[:] = ap_id_ref.tolist()\n",
        "        \n",
        "    first_entry=True\n",
        "    \n",
        "    for i in indices_ref:\n",
        "\n",
        "        spectrum = F['spectrum'][i:i+1]\n",
        "        spectrum[np.isnan(spectrum)]=0.\n",
        "\n",
        "        # NORMALIZE SPECTRUM\n",
        "        # Separate spectra into chips\n",
        "        blue_sp = spectrum[0:1,blue_chip_begin:blue_chip_end]\n",
        "        green_sp = spectrum[0:1,green_chip_begin:green_chip_end]\n",
        "        red_sp = spectrum[0:1,red_chip_begin:red_chip_end]\n",
        "\n",
        "        # Normalize spectra by chips\n",
        "\n",
        "        blue_sp = (blue_sp.T/np.median(blue_sp, axis=1)).T\n",
        "        green_sp = (green_sp.T/np.median(green_sp, axis=1)).T\n",
        "        red_sp = (red_sp.T/np.median(red_sp, axis=1)).T \n",
        "\n",
        "        # Recombine spectra\n",
        "\n",
        "        spectrum = np.column_stack((blue_sp,green_sp,red_sp))\n",
        "        if first_entry:\n",
        "            spectra_ds[0] = spectrum\n",
        "            first_entry=False\n",
        "        else:\n",
        "            spectra_ds.resize(spectra_ds.shape[0]+1, axis=0)\n",
        "\n",
        "            spectra_ds[-1] = spectrum\n",
        "\n",
        "print(savename+' has been saved as the reference set to be used in 4_Train_Model.ipynb')  "
      ],
      "execution_count": null,
      "outputs": [
        {
          "output_type": "stream",
          "text": [
            "/content/drive/My Drive/TA/training_data.h5 has been saved as the reference set to be used in 4_Train_Model.ipynb\n"
          ],
          "name": "stdout"
        }
      ]
    },
    {
      "cell_type": "markdown",
      "metadata": {
        "id": "qpbNTe9I9wXW",
        "colab_type": "text"
      },
      "source": [
        "**Take a look at our preprocessed spectra and its parameter**"
      ]
    },
    {
      "cell_type": "code",
      "metadata": {
        "id": "XpVeyJ8g4Pr1",
        "colab_type": "code",
        "colab": {
          "base_uri": "https://localhost:8080/",
          "height": 68
        },
        "outputId": "68e6f9ee-b6ee-4c69-bb27-e63e3da56e7d"
      },
      "source": [
        "S = h5py.File(savename,'r')\n",
        "print('Dataset keys in file: \\n')\n",
        "print(list(S.keys()))"
      ],
      "execution_count": null,
      "outputs": [
        {
          "output_type": "stream",
          "text": [
            "Dataset keys in file: \n",
            "\n",
            "['Ap_ID', 'FE_H', 'LOGG', 'TEFF', 'spectrum']\n"
          ],
          "name": "stdout"
        }
      ]
    },
    {
      "cell_type": "code",
      "metadata": {
        "id": "W2-KbxEq97qK",
        "colab_type": "code",
        "colab": {
          "base_uri": "https://localhost:8080/",
          "height": 413
        },
        "outputId": "419874aa-b2f2-4898-b627-bd9072d8cc4d"
      },
      "source": [
        "print('Spectrum in the file: ', S['spectrum'].shape)\n",
        "\n",
        "#the spectra\n",
        "fig = plt.figure(figsize = (10,5))\n",
        "plt.title('Sample of preprocessed and normalized spectra')\n",
        "fig = plt.plot(S['spectrum'][1],color='black')\n",
        "sample_teff = '$T_{eff} = $'+str(S['TEFF'][1][0])+' K'\n",
        "sample_logg = '$log(g) = $'+str(S['LOGG'][1][0])\n",
        "sample_fe_h = '$[Fe/H] = $'+str(S['FE_H'][1][0])\n",
        "\n",
        "#The respective parameter\n",
        "plt.annotate(sample_teff, (0,0), (0, -60), xycoords='axes fraction', textcoords='offset points', va='bottom')\n",
        "plt.annotate(sample_logg, (0,0), (200, -60), xycoords='axes fraction', textcoords='offset points', va='bottom')\n",
        "plt.annotate(sample_fe_h, (0,0), (400, -60), xycoords='axes fraction', textcoords='offset points', va='bottom')\n",
        "\n",
        "\n",
        "plt.xlabel('chip length')\n",
        "plt.ylabel('flux')\n"
      ],
      "execution_count": null,
      "outputs": [
        {
          "output_type": "stream",
          "text": [
            "Spectrum in the file:  (44784, 7214)\n"
          ],
          "name": "stdout"
        },
        {
          "output_type": "execute_result",
          "data": {
            "text/plain": [
              "Text(0, 0.5, 'flux')"
            ]
          },
          "metadata": {
            "tags": []
          },
          "execution_count": 134
        },
        {
          "output_type": "display_data",
          "data": {
            "image/png": "[encoded data removed]",
            "text/plain": [
              "<Figure size 720x360 with 1 Axes>"
            ]
          },
          "metadata": {
            "tags": []
          }
        }
      ]
    },
    {
      "cell_type": "code",
      "metadata": {
        "id": "61kCEYf_-D0Y",
        "colab_type": "code",
        "colab": {}
      },
      "source": [
        ""
      ],
      "execution_count": null,
      "outputs": []
    }
  ]
}